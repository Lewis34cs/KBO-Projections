{
 "cells": [
  {
   "cell_type": "code",
   "execution_count": 24,
   "metadata": {},
   "outputs": [],
   "source": [
    "import pandas as pd\n",
    "import requests\n",
    "import re\n",
    "from bs4 import BeautifulSoup\n",
    "from tqdm import tqdm\n",
    "import pandas_profiling"
   ]
  },
  {
   "cell_type": "markdown",
   "metadata": {},
   "source": [
    "# Data Collection: Scraping from Baseball Reference (BR)\n",
    "Baseball Reference is the only resource I found with historical data for the KBO preceding 2014. For thoroughness, I pulled all of the available data. There are two steps to the scraping because indivdual player season-to-season performance data is nested away on different individual pages of the website."
   ]
  },
  {
   "cell_type": "code",
   "execution_count": 7,
   "metadata": {},
   "outputs": [],
   "source": [
    "# scraping BR's KBO encyclopedia page for individual team/season page IDs\n",
    "url = \"https://www.baseball-reference.com/register/league.cgi?code=KBO&class=Fgn\"\n",
    "r = requests.get(url)\n",
    "html_doc = r.text\n",
    "regex = \"\\/register\\/team\\.cgi\\?id=\\w{8}\"\n",
    "matches = re.findall(regex, html_doc)\n",
    "team_season_ids = [match[-8:] for match in matches]"
   ]
  },
  {
   "cell_type": "code",
   "execution_count": 21,
   "metadata": {},
   "outputs": [
    {
     "name": "stderr",
     "output_type": "stream",
     "text": [
      "100%|████████████████████████████████████████████████████████████████████████████████| 313/313 [04:20<00:00,  1.20it/s]\n"
     ]
    }
   ],
   "source": [
    "#scraping each team/season page ID's table, and concatenating into one DataFrame\n",
    "df = pd.DataFrame()\n",
    "base_url = \"https://www.baseball-reference.com/register/team.cgi?id=\"\n",
    "with tqdm(total=len(team_season_ids)) as pbar:    \n",
    "    for id in team_season_ids:\n",
    "        team_season_url = base_url + id\n",
    "        html_doc = requests.get(team_season_url).text\n",
    "        df_new = pd.DataFrame(pd.read_html(html_doc)[0])\n",
    "        df_new['Team'] = str(BeautifulSoup(html_doc).title.string.split()[1]) + \" \" + str(BeautifulSoup(html_doc).title.string.split()[2])\n",
    "        df_new['Season'] = BeautifulSoup(html_doc).title.string.split()[0]\n",
    "        df = pd.concat([df, df_new], ignore_index=True)\n",
    "        pbar.update(1)"
   ]
  },
  {
   "cell_type": "code",
   "execution_count": 23,
   "metadata": {},
   "outputs": [],
   "source": [
    "df.to_csv('KBO Projections Raw Data')"
   ]
  },
  {
   "cell_type": "code",
   "execution_count": 22,
   "metadata": {},
   "outputs": [
    {
     "name": "stdout",
     "output_type": "stream",
     "text": [
      "(8383, 29)\n",
      "    Rk                    Name Age   G   PA   AB   R   H  2B  3B  ...    OPS  \\\n",
      "0  1.0            Gweon Su An?  27  24   16   15   4   3   0   0  ...  0.450   \n",
      "1  2.0           Ju-hwan Choi*  32  29  114  103  14  27   7   0  ...  0.821   \n",
      "2  3.0           Sang-ho Chung  37  16   34   32   0   6   3   0  ...  0.463   \n",
      "3  4.0          Soo-bin Chung*  29  28  110  100  16  27   4   1  ...  0.648   \n",
      "4  5.0  Jose Miguel Fernandez*  32  30  139  124  24  51   9   0  ...  1.058   \n",
      "\n",
      "   TB  GDP  HBP  SH  SF  IBB  Notes          Team  Season  \n",
      "0   3    1    0   0   0  0.0    NaN  Doosan Bears    2020  \n",
      "1  52    3    2   0   2  1.0    NaN  Doosan Bears    2020  \n",
      "2   9    2    0   1   1  0.0    NaN  Doosan Bears    2020  \n",
      "3  33    1    0   3   0  0.0    NaN  Doosan Bears    2020  \n",
      "4  75    5    1   0   3  0.0    NaN  Doosan Bears    2020  \n",
      "\n",
      "[5 rows x 29 columns]\n",
      "        Rk             Name   Age   G    PA    AB    R    H   2B  3B  ...  \\\n",
      "8378  15.0  Jeong-hwan Seo?    26  50   135   124   14   25    1   1  ...   \n",
      "8379  16.0    Sang-dae Son?    27  12    22    19    1    4    0   0  ...   \n",
      "8380  17.0   Sang-deuk Son?    26  53   155   143   21   34    3   2  ...   \n",
      "8381  18.0     Jin-ho Song?    24  41    82    80   11   11    2   0  ...   \n",
      "8382   NaN       18 Players  25.7  80  3040  2649  425  705  126  18  ...   \n",
      "\n",
      "        OPS    TB  GDP  HBP  SH  SF  IBB  Notes           Team  Season  \n",
      "8378  0.511    34    1    1   4   1  NaN    NaN  Samsung Lions    1982  \n",
      "8379  0.496     4    0    1   1   0  NaN    NaN  Samsung Lions    1982  \n",
      "8380  0.605    47    1    1   3   1  NaN    NaN  Samsung Lions    1982  \n",
      "8381  0.359    16    0    0   0   0  NaN    NaN  Samsung Lions    1982  \n",
      "8382  0.739  1038   50   30  36  18  NaN    NaN  Samsung Lions    1982  \n",
      "\n",
      "[5 rows x 29 columns]\n",
      "                Rk            G           PA           AB            R  \\\n",
      "count  8070.000000  8383.000000  8383.000000  8383.000000  8383.000000   \n",
      "mean     13.688476    62.785160   353.216271   308.335441    42.617559   \n",
      "std       7.929958    44.432515   900.273720   785.672285   111.209712   \n",
      "min       1.000000     1.000000     0.000000     0.000000     0.000000   \n",
      "25%       7.000000    20.000000    24.000000    21.000000     2.000000   \n",
      "50%      13.000000    60.000000   126.000000   111.000000    13.000000   \n",
      "75%      20.000000   104.000000   355.000000   309.000000    39.000000   \n",
      "max      36.000000   144.000000  5870.000000  5176.000000   944.000000   \n",
      "\n",
      "                 H           2B           3B           HR          RBI  ...  \\\n",
      "count  8383.000000  8383.000000  8383.000000  8383.000000  8383.000000  ...   \n",
      "mean     82.407969    14.227365     1.550280     7.646427    39.964452  ...   \n",
      "std     211.962029    37.014927     4.393773    21.578924   104.940427  ...   \n",
      "min       0.000000     0.000000     0.000000     0.000000     0.000000  ...   \n",
      "25%       4.000000     0.000000     0.000000     0.000000     1.000000  ...   \n",
      "50%      26.000000     4.000000     0.000000     1.000000    11.000000  ...   \n",
      "75%      81.000000    14.000000     1.000000     6.000000    36.000000  ...   \n",
      "max    1601.000000   304.000000    62.000000   234.000000   898.000000  ...   \n",
      "\n",
      "               OBP          SLG          OPS           TB          GDP  \\\n",
      "count  8354.000000  8338.000000  8338.000000  8383.000000  8383.000000   \n",
      "mean      0.289278     0.316812     0.604962   122.675176     6.969462   \n",
      "std       0.126852     0.177199     0.287620   318.041448    18.119780   \n",
      "min       0.000000     0.000000     0.000000     0.000000     0.000000   \n",
      "25%       0.250000     0.238250     0.498000     5.000000     0.000000   \n",
      "50%       0.315000     0.333000     0.651000    37.000000     2.000000   \n",
      "75%       0.355000     0.412000     0.764000   117.000000     6.000000   \n",
      "max       1.000000     4.000000     5.000000  2518.000000   146.000000   \n",
      "\n",
      "               HBP           SH           SF          IBB  Notes  \n",
      "count  8383.000000  8383.000000  8383.000000  4708.000000    0.0  \n",
      "mean      4.731719     5.535131     2.662651     1.247664    NaN  \n",
      "std      12.842509    15.195856     7.154564     3.742828    NaN  \n",
      "min       0.000000     0.000000     0.000000     0.000000    NaN  \n",
      "25%       0.000000     0.000000     0.000000     0.000000    NaN  \n",
      "50%       1.000000     1.000000     1.000000     0.000000    NaN  \n",
      "75%       4.000000     5.000000     2.000000     1.000000    NaN  \n",
      "max     130.000000   153.000000    83.000000    39.000000    NaN  \n",
      "\n",
      "[8 rows x 25 columns]\n",
      "<class 'pandas.core.frame.DataFrame'>\n",
      "RangeIndex: 8383 entries, 0 to 8382\n",
      "Data columns (total 29 columns):\n",
      " #   Column  Non-Null Count  Dtype  \n",
      "---  ------  --------------  -----  \n",
      " 0   Rk      8070 non-null   float64\n",
      " 1   Name    8383 non-null   object \n",
      " 2   Age     8383 non-null   object \n",
      " 3   G       8383 non-null   int64  \n",
      " 4   PA      8383 non-null   int64  \n",
      " 5   AB      8383 non-null   int64  \n",
      " 6   R       8383 non-null   int64  \n",
      " 7   H       8383 non-null   int64  \n",
      " 8   2B      8383 non-null   int64  \n",
      " 9   3B      8383 non-null   int64  \n",
      " 10  HR      8383 non-null   int64  \n",
      " 11  RBI     8383 non-null   int64  \n",
      " 12  SB      4708 non-null   float64\n",
      " 13  CS      4708 non-null   float64\n",
      " 14  BB      8383 non-null   int64  \n",
      " 15  SO      8383 non-null   int64  \n",
      " 16  BA      8338 non-null   float64\n",
      " 17  OBP     8354 non-null   float64\n",
      " 18  SLG     8338 non-null   float64\n",
      " 19  OPS     8338 non-null   float64\n",
      " 20  TB      8383 non-null   int64  \n",
      " 21  GDP     8383 non-null   int64  \n",
      " 22  HBP     8383 non-null   int64  \n",
      " 23  SH      8383 non-null   int64  \n",
      " 24  SF      8383 non-null   int64  \n",
      " 25  IBB     4708 non-null   float64\n",
      " 26  Notes   0 non-null      float64\n",
      " 27  Team    8383 non-null   object \n",
      " 28  Season  8383 non-null   object \n",
      "dtypes: float64(9), int64(16), object(4)\n",
      "memory usage: 1.9+ MB\n",
      "None\n",
      "Rk        float64\n",
      "Name       object\n",
      "Age        object\n",
      "G           int64\n",
      "PA          int64\n",
      "AB          int64\n",
      "R           int64\n",
      "H           int64\n",
      "2B          int64\n",
      "3B          int64\n",
      "HR          int64\n",
      "RBI         int64\n",
      "SB        float64\n",
      "CS        float64\n",
      "BB          int64\n",
      "SO          int64\n",
      "BA        float64\n",
      "OBP       float64\n",
      "SLG       float64\n",
      "OPS       float64\n",
      "TB          int64\n",
      "GDP         int64\n",
      "HBP         int64\n",
      "SH          int64\n",
      "SF          int64\n",
      "IBB       float64\n",
      "Notes     float64\n",
      "Team       object\n",
      "Season     object\n",
      "dtype: object\n"
     ]
    }
   ],
   "source": [
    "print(df.shape)\n",
    "print(df.head())\n",
    "print(df.tail())\n",
    "print(df.describe())\n",
    "print(df.info())\n",
    "print(df.dtypes)"
   ]
  },
  {
   "cell_type": "code",
   "execution_count": null,
   "metadata": {},
   "outputs": [],
   "source": [
    "report = df.profile_report(sort='None', html={'style':{'full_width': True}}, progress_bar=False)\n",
    "report"
   ]
  },
  {
   "cell_type": "code",
   "execution_count": null,
   "metadata": {},
   "outputs": [],
   "source": [
    "# list of obvious problems/first blush solutions\n",
    "'''\n",
    "some rows are the team total rows -> search and delete row entries that str.contain(\"players\")\n",
    "Rk col is useless->delete\n",
    "Notes col is useless -> delete\n",
    "Extract batting stance from Name column\n",
    "Columns could be reordered\n",
    "Null entries in CS, SB because base-stealing data wasn't recorded--\n",
    "Null entries in IBB because international balls data wasn't recorded--\n",
    "Age data type should be int, not object\n",
    "SB, CS dtype should be int\n",
    "'''"
   ]
  }
 ],
 "metadata": {
  "kernelspec": {
   "display_name": "Python 3",
   "language": "python",
   "name": "python3"
  },
  "language_info": {
   "codemirror_mode": {
    "name": "ipython",
    "version": 3
   },
   "file_extension": ".py",
   "mimetype": "text/x-python",
   "name": "python",
   "nbconvert_exporter": "python",
   "pygments_lexer": "ipython3",
   "version": "3.7.6"
  }
 },
 "nbformat": 4,
 "nbformat_minor": 4
}

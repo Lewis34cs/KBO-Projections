{
 "cells": [
  {
   "cell_type": "code",
   "execution_count": 1,
   "metadata": {},
   "outputs": [],
   "source": [
    "import pandas as pd\n",
    "import requests\n",
    "import re\n",
    "from bs4 import BeautifulSoup\n",
    "from tqdm import tqdm\n",
    "import numpy as np\n",
    "import matplotlib.pyplot as plt\n",
    "from sklearn.experimental import enable_iterative_imputer\n",
    "from sklearn.impute import IterativeImputer\n",
    "import pandas_profiling"
   ]
  },
  {
   "cell_type": "markdown",
   "metadata": {},
   "source": [
    "# Data Collection: Scraping from Baseball Reference (BR)\n",
    "Baseball Reference is the only resource I found with historical data for the KBO preceding 2014. For thoroughness, I pulled all of the available data. There are two steps to the scraping because indivdual player season-to-season performance data is nested away on different individual pages of the website."
   ]
  },
  {
   "cell_type": "code",
   "execution_count": 2,
   "metadata": {},
   "outputs": [],
   "source": [
    "# scrape BR's KBO encyclopedia page for individual team/season page IDs\n",
    "url = \"https://www.baseball-reference.com/register/league.cgi?code=KBO&class=Fgn\"\n",
    "r = requests.get(url)\n",
    "html_doc = r.text\n",
    "regex = \"\\/register\\/team\\.cgi\\?id=\\w{8}\"\n",
    "matches = re.findall(regex, html_doc)\n",
    "team_season_ids = [match[-8:] for match in matches]"
   ]
  },
  {
   "cell_type": "code",
   "execution_count": 3,
   "metadata": {},
   "outputs": [
    {
     "name": "stderr",
     "output_type": "stream",
     "text": [
      "100%|████████████████████████████████████████████████████████████████████████████████| 313/313 [14:06<00:00,  2.71s/it]\n"
     ]
    }
   ],
   "source": [
    "# scrape each team/season page ID's table, and concatenate into one DataFrame\n",
    "raw = pd.DataFrame()\n",
    "base_url = \"https://www.baseball-reference.com/register/team.cgi?id=\"\n",
    "with tqdm(total=len(team_season_ids)) as pbar:    \n",
    "    for id in team_season_ids:\n",
    "        team_season_url = base_url + id\n",
    "        html_doc = requests.get(team_season_url).text\n",
    "        raw_new = pd.DataFrame(pd.read_html(html_doc)[0])\n",
    "        raw_new['Team'] = str(BeautifulSoup(html_doc).title.string.split()[1]) + \" \" + str(BeautifulSoup(html_doc).title.string.split()[2])\n",
    "        raw_new['Season'] = BeautifulSoup(html_doc).title.string.split()[0]\n",
    "        raw = pd.concat([raw, raw_new], ignore_index=True)\n",
    "        pbar.update(1)"
   ]
  },
  {
   "cell_type": "code",
   "execution_count": 4,
   "metadata": {},
   "outputs": [],
   "source": [
    "# save to local directory\n",
    "raw.to_csv('KBO_Projections_Raw_Data.csv')"
   ]
  },
  {
   "cell_type": "markdown",
   "metadata": {},
   "source": [
    "# Data Cleaning\n",
    "The raw data has a variety of issues, which I address individually below."
   ]
  },
  {
   "cell_type": "code",
   "execution_count": 5,
   "metadata": {},
   "outputs": [],
   "source": [
    "df = pd.read_csv('KBO_Projections_Raw_Data.csv')\n",
    "# delete rows that are team totals and not individual players\n",
    "df.drop(df.loc[df['Rk'].isna()].index, inplace=True)\n",
    "# delete cols that aren't substantive\n",
    "df.drop(columns = ['Rk', 'Notes', 'Unnamed: 0'], inplace=True)"
   ]
  },
  {
   "cell_type": "code",
   "execution_count": 6,
   "metadata": {},
   "outputs": [],
   "source": [
    "# extract batting stance (implied via special characters in name column)\n",
    "Batting_Stances = []\n",
    "for name in df['Name']:\n",
    "    if '*' in name:\n",
    "        Batting_Stances.append(\"Left-Handed\")\n",
    "    elif '#' in name:\n",
    "        Batting_Stances.append(\"Switch Hitter\")\n",
    "    elif '?' in name:\n",
    "        Batting_Stances.append(\"Unknown\")\n",
    "    else:\n",
    "        Batting_Stances.append(\"Right-Handed\")\n",
    "df['Batting Stance'] = Batting_Stances"
   ]
  },
  {
   "cell_type": "code",
   "execution_count": 7,
   "metadata": {},
   "outputs": [],
   "source": [
    "# remove what are now excess characters from name column\n",
    "df['Name'] = df['Name'].str.replace(\"*\",\"\")\n",
    "df['Name'] = df['Name'].str.replace(\"#\",\"\")\n",
    "df['Name'] = df['Name'].str.replace(\"?\",\"\")"
   ]
  },
  {
   "cell_type": "code",
   "execution_count": 8,
   "metadata": {},
   "outputs": [],
   "source": [
    "# fix one missing entry\n",
    "df.loc[1651, 'Age'] = 24"
   ]
  },
  {
   "cell_type": "code",
   "execution_count": 9,
   "metadata": {},
   "outputs": [
    {
     "name": "stdout",
     "output_type": "stream",
     "text": [
      "False    8070\n",
      "dtype: int64\n"
     ]
    }
   ],
   "source": [
    "# check for duplicates\n",
    "print(df.duplicated().value_counts())"
   ]
  },
  {
   "cell_type": "code",
   "execution_count": 10,
   "metadata": {},
   "outputs": [
    {
     "name": "stdout",
     "output_type": "stream",
     "text": [
      "                 G           PA           AB            R            H  \\\n",
      "count  8070.000000  8070.000000  8070.000000  8070.000000  8070.000000   \n",
      "mean     60.409418   182.451549   159.260719    22.024287    42.583891   \n",
      "std      43.385525   179.285612   155.726935    24.916590    46.103986   \n",
      "min       1.000000     0.000000     0.000000     0.000000     0.000000   \n",
      "25%      18.000000    22.000000    20.000000     2.000000     3.000000   \n",
      "50%      57.000000   114.000000   101.000000    12.000000    24.000000   \n",
      "75%     101.000000   327.000000   284.000000    36.000000    74.000000   \n",
      "max     144.000000   672.000000   600.000000   135.000000   201.000000   \n",
      "\n",
      "                2B           3B           HR          RBI           SB  ...  \\\n",
      "count  8070.000000  8070.000000  8070.000000  8070.000000  4534.000000  ...   \n",
      "mean      7.351425     0.802107     3.950929    20.646964     3.861270  ...   \n",
      "std       8.581665     1.468847     6.714054    25.374574     7.388046  ...   \n",
      "min       0.000000     0.000000     0.000000     0.000000     0.000000  ...   \n",
      "25%       0.000000     0.000000     0.000000     1.000000     0.000000  ...   \n",
      "50%       4.000000     0.000000     1.000000    10.000000     1.000000  ...   \n",
      "75%      12.000000     1.000000     5.000000    32.000000     4.000000  ...   \n",
      "max      47.000000    17.000000    56.000000   146.000000    66.000000  ...   \n",
      "\n",
      "               OBP          SLG          OPS           TB          GDP  \\\n",
      "count  8041.000000  8025.000000  8025.000000  8070.000000  8070.000000   \n",
      "mean      0.287251     0.313729     0.599804    63.392317     3.599133   \n",
      "std       0.128827     0.179754     0.291769    72.316398     4.191568   \n",
      "min       0.000000     0.000000     0.000000     0.000000     0.000000   \n",
      "25%       0.250000     0.231000     0.485000     5.000000     0.000000   \n",
      "50%       0.312000     0.330000     0.642000    33.000000     2.000000   \n",
      "75%       0.356000     0.411000     0.762000   106.000000     6.000000   \n",
      "max       1.000000     4.000000     5.000000   377.000000    24.000000   \n",
      "\n",
      "               HBP           SH           SF          IBB       Season  \n",
      "count  8070.000000  8070.000000  8070.000000  4534.000000  8070.000000  \n",
      "mean      2.441760     2.857993     1.374845     0.644243  2002.674226  \n",
      "std       3.503307     4.255056     1.968493     1.646391    11.028150  \n",
      "min       0.000000     0.000000     0.000000     0.000000  1982.000000  \n",
      "25%       0.000000     0.000000     0.000000     0.000000  1993.000000  \n",
      "50%       1.000000     1.000000     1.000000     0.000000  2003.000000  \n",
      "75%       4.000000     4.000000     2.000000     1.000000  2013.000000  \n",
      "max      31.000000    41.000000    16.000000    28.000000  2020.000000  \n",
      "\n",
      "[8 rows x 24 columns]\n"
     ]
    }
   ],
   "source": [
    "# check for \"common sense\" outliers (ignoring IBB, SB, CS)\n",
    "print(df.describe())"
   ]
  },
  {
   "cell_type": "code",
   "execution_count": 11,
   "metadata": {},
   "outputs": [],
   "source": [
    "# because they make up <1% of the dataset, drop rows with na values in OBP, SLG, OPS\n",
    "df = df.dropna(subset=['OBP', 'SLG', 'OPS'])"
   ]
  },
  {
   "cell_type": "code",
   "execution_count": 12,
   "metadata": {},
   "outputs": [],
   "source": [
    "# create subsets of df containing only the numeric (and categorical) cols for ImperativeImputer\n",
    "df = df.set_index('Name')\n",
    "df_num_only = df.drop(columns=['Team', 'Batting Stance'])\n",
    "df_categorical = df[['Team', 'Batting Stance']]"
   ]
  },
  {
   "cell_type": "code",
   "execution_count": 13,
   "metadata": {},
   "outputs": [],
   "source": [
    "# data for SB, CS, and IBB wasn't recorded before 2001, so I opted to fill in missing values with IterativeImputer\n",
    "imp = IterativeImputer(min_value=0)\n",
    "imp.fit(df_num_only)\n",
    "imputed_df = imp.transform(df_num_only)\n",
    "imputed_df = pd.DataFrame(imputed_df, columns = df_num_only.columns, index=df_num_only.index)"
   ]
  },
  {
   "cell_type": "code",
   "execution_count": 14,
   "metadata": {},
   "outputs": [],
   "source": [
    "# combine imputed_df into df with removed categorical variables\n",
    "full_df = pd.concat([df_categorical, imputed_df], axis=1)"
   ]
  },
  {
   "cell_type": "code",
   "execution_count": 15,
   "metadata": {},
   "outputs": [],
   "source": [
    "# change dtypes of columns\n",
    "columns_to_int = ['Age','G','PA','AB','R','H','2B','3B','HR','RBI','SB','CS','BB','SO','TB','GDP','HBP','SH','SF','IBB','Season']\n",
    "for col in columns_to_int:\n",
    "    full_df[col] = full_df[col].astype(int)"
   ]
  },
  {
   "cell_type": "markdown",
   "metadata": {},
   "source": [
    "# Data Export\n",
    "With the data fully cleaned, export to a new CSV for future steps."
   ]
  },
  {
   "cell_type": "code",
   "execution_count": 16,
   "metadata": {},
   "outputs": [],
   "source": [
    "full_df.to_csv('KBO_Projections_Data_Clean.csv')"
   ]
  }
 ],
 "metadata": {
  "kernelspec": {
   "display_name": "Python 3",
   "language": "python",
   "name": "python3"
  },
  "language_info": {
   "codemirror_mode": {
    "name": "ipython",
    "version": 3
   },
   "file_extension": ".py",
   "mimetype": "text/x-python",
   "name": "python",
   "nbconvert_exporter": "python",
   "pygments_lexer": "ipython3",
   "version": "3.7.6"
  }
 },
 "nbformat": 4,
 "nbformat_minor": 4
}

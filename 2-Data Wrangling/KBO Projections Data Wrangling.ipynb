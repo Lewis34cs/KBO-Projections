{
 "cells": [
  {
   "cell_type": "code",
   "execution_count": 50,
   "metadata": {},
   "outputs": [],
   "source": [
    "import pandas as pd\n",
    "import requests\n",
    "import re\n",
    "from bs4 import BeautifulSoup\n",
    "from tqdm import tqdm\n",
    "import pandas_profiling"
   ]
  },
  {
   "cell_type": "markdown",
   "metadata": {},
   "source": [
    "# Data Collection: Scraping from Baseball Reference (BR)\n",
    "Baseball Reference is the only resource I found with historical data for the KBO preceding 2014. For thoroughness, I pulled all of the available data. There are two steps to the scraping because indivdual player season-to-season performance data is nested away on different individual pages of the website."
   ]
  },
  {
   "cell_type": "code",
   "execution_count": 51,
   "metadata": {},
   "outputs": [],
   "source": [
    "# scraping BR's KBO encyclopedia page for individual team/season page IDs\n",
    "url = \"https://www.baseball-reference.com/register/league.cgi?code=KBO&class=Fgn\"\n",
    "r = requests.get(url)\n",
    "html_doc = r.text\n",
    "regex = \"\\/register\\/team\\.cgi\\?id=\\w{8}\"\n",
    "matches = re.findall(regex, html_doc)\n",
    "team_season_ids = [match[-8:] for match in matches]"
   ]
  },
  {
   "cell_type": "code",
   "execution_count": 52,
   "metadata": {},
   "outputs": [
    {
     "name": "stderr",
     "output_type": "stream",
     "text": [
      "100%|████████████████████████████████████████████████████████████████████████████████| 313/313 [14:52<00:00,  2.85s/it]\n"
     ]
    }
   ],
   "source": [
    "# scraping each team/season page ID's table, and concatenating into one DataFrame\n",
    "raw = pd.DataFrame()\n",
    "base_url = \"https://www.baseball-reference.com/register/team.cgi?id=\"\n",
    "with tqdm(total=len(team_season_ids)) as pbar:    \n",
    "    for id in team_season_ids:\n",
    "        team_season_url = base_url + id\n",
    "        html_doc = requests.get(team_season_url).text\n",
    "        raw_new = pd.DataFrame(pd.read_html(html_doc)[0])\n",
    "        raw_new['Team'] = str(BeautifulSoup(html_doc).title.string.split()[1]) + \" \" + str(BeautifulSoup(html_doc).title.string.split()[2])\n",
    "        raw_new['Season'] = BeautifulSoup(html_doc).title.string.split()[0]\n",
    "        raw = pd.concat([raw, raw_new], ignore_index=True)\n",
    "        pbar.update(1)"
   ]
  },
  {
   "cell_type": "code",
   "execution_count": 87,
   "metadata": {},
   "outputs": [],
   "source": [
    "# saving to local directory, reading from saved csv to variable df\n",
    "raw.to_csv('KBO_Projections_Raw_Data.csv')\n",
    "df = pd.read_csv('KBO_Projections_Raw_Data.csv')"
   ]
  },
  {
   "cell_type": "code",
   "execution_count": 92,
   "metadata": {},
   "outputs": [
    {
     "name": "stdout",
     "output_type": "stream",
     "text": [
      "<class 'pandas.core.frame.DataFrame'>\n",
      "Int64Index: 8070 entries, 0 to 8381\n",
      "Data columns (total 28 columns):\n",
      " #   Column      Non-Null Count  Dtype  \n",
      "---  ------      --------------  -----  \n",
      " 0   Unnamed: 0  8070 non-null   int64  \n",
      " 1   Name        8070 non-null   object \n",
      " 2   Age         8070 non-null   object \n",
      " 3   G           8070 non-null   int64  \n",
      " 4   PA          8070 non-null   int64  \n",
      " 5   AB          8070 non-null   int64  \n",
      " 6   R           8070 non-null   int64  \n",
      " 7   H           8070 non-null   int64  \n",
      " 8   2B          8070 non-null   int64  \n",
      " 9   3B          8070 non-null   int64  \n",
      " 10  HR          8070 non-null   int64  \n",
      " 11  RBI         8070 non-null   int64  \n",
      " 12  SB          4534 non-null   float64\n",
      " 13  CS          4534 non-null   float64\n",
      " 14  BB          8070 non-null   int64  \n",
      " 15  SO          8070 non-null   int64  \n",
      " 16  BA          8025 non-null   float64\n",
      " 17  OBP         8041 non-null   float64\n",
      " 18  SLG         8025 non-null   float64\n",
      " 19  OPS         8025 non-null   float64\n",
      " 20  TB          8070 non-null   int64  \n",
      " 21  GDP         8070 non-null   int64  \n",
      " 22  HBP         8070 non-null   int64  \n",
      " 23  SH          8070 non-null   int64  \n",
      " 24  SF          8070 non-null   int64  \n",
      " 25  IBB         4534 non-null   float64\n",
      " 26  Team        8070 non-null   object \n",
      " 27  Season      8070 non-null   int64  \n",
      "dtypes: float64(7), int64(18), object(3)\n",
      "memory usage: 1.8+ MB\n",
      "None\n"
     ]
    }
   ],
   "source": [
    "print(df.info())"
   ]
  },
  {
   "cell_type": "code",
   "execution_count": 91,
   "metadata": {},
   "outputs": [],
   "source": [
    "# delete rows that are team totals and not individual players\n",
    "df.drop(df.loc[df['Rk'].isna()].index, inplace=True)\n",
    "# delete cols that aren't substantive\n",
    "df.drop(columns = ['Rk', 'Notes'], inplace=True)"
   ]
  },
  {
   "cell_type": "code",
   "execution_count": null,
   "metadata": {},
   "outputs": [],
   "source": [
    "# list of obvious problems/first blush solutions\n",
    "'''\n",
    "Extract batting stance from Name column\n",
    "Columns could be reordered\n",
    "Null entries in CS, SB because base-stealing data wasn't recorded--\n",
    "Null entries in IBB because international balls data wasn't recorded--\n",
    "Age data type should be int, not object\n",
    "SB, CS dtype should be int\n",
    "'''\n",
    "\n",
    "# Pandas Profiling Report to check out again once data is cleaned\n",
    "#report = df.profile_report(sort='None', html={'style':{'full_width': True}}, progress_bar=False)\n",
    "#report"
   ]
  }
 ],
 "metadata": {
  "kernelspec": {
   "display_name": "Python 3",
   "language": "python",
   "name": "python3"
  },
  "language_info": {
   "codemirror_mode": {
    "name": "ipython",
    "version": 3
   },
   "file_extension": ".py",
   "mimetype": "text/x-python",
   "name": "python",
   "nbconvert_exporter": "python",
   "pygments_lexer": "ipython3",
   "version": "3.7.6"
  }
 },
 "nbformat": 4,
 "nbformat_minor": 4
}

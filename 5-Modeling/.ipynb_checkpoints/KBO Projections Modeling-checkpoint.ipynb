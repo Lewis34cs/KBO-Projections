{
 "cells": [
  {
   "cell_type": "markdown",
   "metadata": {},
   "source": [
    "# KBO Projections Modeling"
   ]
  },
  {
   "cell_type": "code",
   "execution_count": 1,
   "metadata": {},
   "outputs": [],
   "source": [
    "# import packages\n",
    "import pandas as pd\n",
    "import numpy as np\n",
    "import matplotlib.pyplot as plt\n",
    "import seaborn as sns"
   ]
  },
  {
   "cell_type": "markdown",
   "metadata": {},
   "source": [
    "## Train Test Split"
   ]
  },
  {
   "cell_type": "markdown",
   "metadata": {},
   "source": [
    "Because the goal of the project is to project full season performance from partial season performance, I will be splitting based on the season column, withholding the partial 2020 season for testing. I will then drop the season column, since it serves more as a nominal column for the sake of the specified projections. I am performing this split before fitting and applying the standard scaler to the rest of the data to avoid data leakage. Then I will apply train_test_split to the pre-2020 data to build models that define the feature relationships for our three response variables. After that, I will examine the question of projecting from partial to full season."
   ]
  },
  {
   "cell_type": "code",
   "execution_count": 2,
   "metadata": {},
   "outputs": [],
   "source": [
    "df = pd.read_csv(\"KBO_Projections_Data_Modeling.csv\")"
   ]
  },
  {
   "cell_type": "code",
   "execution_count": 3,
   "metadata": {},
   "outputs": [],
   "source": [
    "# split by season, and then drop season column\n",
    "pd.set_option('mode.chained_assignment',None)\n",
    "season_2020 = df[df['Season']==2020]\n",
    "split = df[df['Season']!=2020]\n",
    "season_2020.drop(['Season'],axis=1,inplace=True)\n",
    "split.drop(['Season'],axis=1,inplace=True)"
   ]
  },
  {
   "cell_type": "code",
   "execution_count": 4,
   "metadata": {},
   "outputs": [],
   "source": [
    "# X, y\n",
    "X = split.drop(['RBI_rate','HR_rate','BA'],axis=1)\n",
    "X_2020 = season_2020.drop(['RBI_rate','HR_rate','BA'],axis=1)\n",
    "y = split[['RBI_rate','HR_rate','BA']]\n",
    "y_2020 = season_2020[['RBI_rate','HR_rate','BA']]"
   ]
  },
  {
   "cell_type": "code",
   "execution_count": 5,
   "metadata": {},
   "outputs": [],
   "source": [
    "from sklearn.model_selection import train_test_split\n",
    "X_train, X_test, y_train, y_test = train_test_split(X, y, random_state=409)"
   ]
  },
  {
   "cell_type": "code",
   "execution_count": 6,
   "metadata": {},
   "outputs": [],
   "source": [
    "from sklearn.preprocessing import StandardScaler\n",
    "scaler = StandardScaler()\n",
    "scaler.fit(X_train)\n",
    "X_train = scaler.transform(X_train)\n",
    "X_test = scaler.transform(X_test)\n",
    "X_2020 = scaler.transform(X_2020)"
   ]
  },
  {
   "cell_type": "markdown",
   "metadata": {},
   "source": [
    "## Modeling"
   ]
  },
  {
   "cell_type": "markdown",
   "metadata": {},
   "source": [
    "This is a regression problem. I will try the following models out-of-the-box, and see how they perform. If one is well ahead in terms of performance, I will use that one and tune it. If more than one is very close in terms of performance, I will tune them a bit and see how much performance improvement we can get.\n",
    "\n",
    "1. RidgeRegression\n",
    "2. SVR(kernel-'linear')\n",
    "3. SVR(kernel-'rbf')\n",
    "\n",
    "In terms of evaluation metrics, I will be using RMSE as my leading indicator. **Note: I also tried Lasso, ElasticNet, and Logit, but the results were either weak or redundant, so I haven't included them here to save space."
   ]
  },
  {
   "cell_type": "code",
   "execution_count": 7,
   "metadata": {},
   "outputs": [],
   "source": [
    "from sklearn.metrics import mean_squared_error, r2_score, mean_absolute_error"
   ]
  },
  {
   "cell_type": "code",
   "execution_count": 8,
   "metadata": {},
   "outputs": [],
   "source": [
    "def initial_train_scores(reg):\n",
    "    print(\"Training Set Scores: \")\n",
    "    for y in ['RBI_rate','HR_rate','BA']:\n",
    "        reg.fit(X_train,y_train[y])\n",
    "        y_pred = reg.predict(X_train)\n",
    "        RMSE = mean_squared_error(y_train[y], y_pred, squared=False)\n",
    "        r2 = r2_score(y_train[y],y_pred)\n",
    "        MAE = mean_absolute_error(y_train[y], y_pred)\n",
    "        print(y + \": RMSE: \" + str(round(RMSE,3)) + \" r2: \" + str(round(r2,3)) + \" MAE: \" + str(round(MAE,3)))"
   ]
  },
  {
   "cell_type": "code",
   "execution_count": 9,
   "metadata": {},
   "outputs": [],
   "source": [
    "def initial_test_scores(reg):\n",
    "    print(\"Test Set Scores: \")\n",
    "    for y in ['RBI_rate','HR_rate','BA']:\n",
    "        reg.fit(X_train,y_train[y])\n",
    "        y_pred = reg.predict(X_test)\n",
    "        RMSE = mean_squared_error(y_test[y], y_pred, squared=False)\n",
    "        r2 = r2_score(y_test[y],y_pred)\n",
    "        MAE = mean_absolute_error(y_test[y], y_pred)\n",
    "        print(y + \": RMSE: \" + str(round(RMSE,3)) + \" r2: \" + str(round(r2,3)) + \" MAE: \" + str(round(MAE,3)))"
   ]
  },
  {
   "cell_type": "code",
   "execution_count": 10,
   "metadata": {},
   "outputs": [],
   "source": [
    "def initial_scores(reg):\n",
    "    initial_train_scores(reg)\n",
    "    initial_test_scores(reg)"
   ]
  },
  {
   "cell_type": "markdown",
   "metadata": {},
   "source": [
    "### RidgeRegression"
   ]
  },
  {
   "cell_type": "code",
   "execution_count": 11,
   "metadata": {},
   "outputs": [
    {
     "name": "stdout",
     "output_type": "stream",
     "text": [
      "Training Set Scores: \n",
      "RBI_rate: RMSE: 0.056 r2: 0.532 MAE: 0.028\n",
      "HR_rate: RMSE: 0.005 r2: 0.944 MAE: 0.002\n",
      "BA: RMSE: 0.011 r2: 0.99 MAE: 0.005\n",
      "Test Set Scores: \n",
      "RBI_rate: RMSE: 0.081 r2: 0.385 MAE: 0.031\n",
      "HR_rate: RMSE: 0.007 r2: 0.949 MAE: 0.002\n",
      "BA: RMSE: 0.014 r2: 0.987 MAE: 0.006\n"
     ]
    }
   ],
   "source": [
    "from sklearn.linear_model import Ridge\n",
    "ridge = Ridge()\n",
    "\n",
    "initial_scores(ridge)"
   ]
  },
  {
   "cell_type": "markdown",
   "metadata": {},
   "source": [
    "### SVR(kernel-'linear')"
   ]
  },
  {
   "cell_type": "code",
   "execution_count": 12,
   "metadata": {},
   "outputs": [
    {
     "name": "stdout",
     "output_type": "stream",
     "text": [
      "Training Set Scores: \n",
      "RBI_rate: RMSE: 0.07 r2: 0.288 MAE: 0.045\n",
      "HR_rate: RMSE: 0.084 r2: -18.151 MAE: 0.083\n",
      "BA: RMSE: 0.063 r2: 0.678 MAE: 0.06\n",
      "Test Set Scores: \n",
      "RBI_rate: RMSE: 0.097 r2: 0.122 MAE: 0.046\n",
      "HR_rate: RMSE: 0.084 r2: -7.295 MAE: 0.083\n",
      "BA: RMSE: 0.064 r2: 0.708 MAE: 0.06\n"
     ]
    }
   ],
   "source": [
    "from sklearn.svm import SVR\n",
    "svr_lin = SVR(kernel='linear')\n",
    "\n",
    "initial_scores(svr_lin)"
   ]
  },
  {
   "cell_type": "markdown",
   "metadata": {},
   "source": [
    "### SVR(kernel-'rbf')"
   ]
  },
  {
   "cell_type": "code",
   "execution_count": 13,
   "metadata": {},
   "outputs": [
    {
     "name": "stdout",
     "output_type": "stream",
     "text": [
      "Training Set Scores: \n",
      "RBI_rate: RMSE: 0.063 r2: 0.425 MAE: 0.046\n",
      "HR_rate: RMSE: 0.086 r2: -19.195 MAE: 0.085\n",
      "BA: RMSE: 0.039 r2: 0.877 MAE: 0.029\n",
      "Test Set Scores: \n",
      "RBI_rate: RMSE: 0.099 r2: 0.088 MAE: 0.049\n",
      "HR_rate: RMSE: 0.088 r2: -8.095 MAE: 0.085\n",
      "BA: RMSE: 0.054 r2: 0.793 MAE: 0.031\n"
     ]
    }
   ],
   "source": [
    "svr_rbf = SVR(kernel='rbf')\n",
    "\n",
    "initial_scores(svr_rbf)"
   ]
  },
  {
   "cell_type": "markdown",
   "metadata": {},
   "source": [
    "So, reviewing the above test set scores for each of the three response variables, the best performing model is consistently the __Ridge Regressor__.\n",
    "\n",
    "RBI_rate: Ridge with an RMSE of 0.081 and r2 of 0.385.\n",
    "\n",
    "HR_rate: Ridge with an RMSE of 0.007 and r2 of 0.949.\n",
    "\n",
    "BA: Ridge with and RMSE of 0.014 and r2 of 0.987.\n",
    "\n",
    "So, I will be using the ridge regressor as the model of choice and tuning it for each of the response variables from here."
   ]
  },
  {
   "cell_type": "markdown",
   "metadata": {},
   "source": [
    "## Tuning"
   ]
  },
  {
   "cell_type": "markdown",
   "metadata": {},
   "source": [
    "Because ridge is not intensely computationally demanding, I will be using a wide GridSearchCV in lieu of Bayesian hyperparameter tuning or RandomSearchCV."
   ]
  },
  {
   "cell_type": "code",
   "execution_count": 51,
   "metadata": {},
   "outputs": [],
   "source": [
    "# define range of alphas\n",
    "alphas = [1e-15, 1e-10, 1e-8, 1e-4, 1e-3, 1e-2]\n",
    "alphas = np.concatenate([alphas, np.arange(1,2001,1)])"
   ]
  },
  {
   "cell_type": "code",
   "execution_count": 14,
   "metadata": {},
   "outputs": [
    {
     "ename": "NameError",
     "evalue": "name 'Ridge_reg' is not defined",
     "output_type": "error",
     "traceback": [
      "\u001b[1;31m---------------------------------------------------------------------------\u001b[0m",
      "\u001b[1;31mNameError\u001b[0m                                 Traceback (most recent call last)",
      "\u001b[1;32m<ipython-input-14-dac019ae2c7b>\u001b[0m in \u001b[0;36m<module>\u001b[1;34m\u001b[0m\n\u001b[0;32m     16\u001b[0m \u001b[1;33m\u001b[0m\u001b[0m\n\u001b[0;32m     17\u001b[0m \u001b[1;31m# best estimator\u001b[0m\u001b[1;33m\u001b[0m\u001b[1;33m\u001b[0m\u001b[1;33m\u001b[0m\u001b[0m\n\u001b[1;32m---> 18\u001b[1;33m \u001b[0mprint\u001b[0m\u001b[1;33m(\u001b[0m\u001b[0mRidge_reg\u001b[0m\u001b[1;33m.\u001b[0m\u001b[0mbest_estimator_\u001b[0m\u001b[1;33m)\u001b[0m\u001b[1;33m\u001b[0m\u001b[1;33m\u001b[0m\u001b[0m\n\u001b[0m\u001b[0;32m     19\u001b[0m \u001b[0mprint\u001b[0m\u001b[1;33m(\u001b[0m\u001b[0mRidge_reg\u001b[0m\u001b[1;33m.\u001b[0m\u001b[0mbest_score_\u001b[0m\u001b[1;33m)\u001b[0m\u001b[1;33m\u001b[0m\u001b[1;33m\u001b[0m\u001b[0m\n",
      "\u001b[1;31mNameError\u001b[0m: name 'Ridge_reg' is not defined"
     ]
    }
   ],
   "source": [
    "# Grid Search for 'RBI_rate'\n",
    "\n",
    "from sklearn.model_selection import GridSearchCV\n",
    "\n",
    "params = {\n",
    "    'alpha':alphas,\n",
    "    'fit_intercept':[True,False],\n",
    "    'solver':['svd', 'cholesky', 'lsqr', 'sparse_cg', 'sag', 'saga']\n",
    "}\n",
    "\n",
    "model = Ridge()\n",
    "ridge_cv = GridSearchCV(model, params, scoring='neg_mean_squared_error')\n",
    "\n",
    "#fit the grid search\n",
    "ridge_cv.fit(X_train,y_train['RBI_rate'])\n",
    "\n",
    "# best estimator\n",
    "print(ridge_cv.best_estimator_)\n",
    "print(ridge_cv.best_score_)"
   ]
  },
  {
   "cell_type": "code",
   "execution_count": 17,
   "metadata": {},
   "outputs": [
    {
     "data": {
      "image/png": "[encoded data removed]",
      "text/plain": [
       "<Figure size 432x288 with 1 Axes>"
      ]
     },
     "metadata": {
      "needs_background": "light"
     },
     "output_type": "display_data"
    }
   ],
   "source": [
    "# some visualization of our alphas for 'RBI_rate'\n",
    "\n",
    "scores = []\n",
    "for a in alphas:\n",
    "    ridge = Ridge(alpha=a)\n",
    "    ridge.fit(X_train, y_train['RBI_rate'])\n",
    "    y_pred = ridge.predict(X_test)\n",
    "    RMSE = mean_squared_error(y_test['RBI_rate'], y_pred, squared=False)\n",
    "    scores.append(RMSE)\n",
    "\n",
    "_ = sns.scatterplot(x=alphas,y=scores)\n",
    "plt.xlabel('alpha')\n",
    "plt.ylabel('RMSE')\n",
    "plt.title('RMSE by Alpha')\n",
    "plt.axis('tight')\n",
    "_ = plt.show()"
   ]
  },
  {
   "cell_type": "code",
   "execution_count": null,
   "metadata": {},
   "outputs": [],
   "source": [
    "# Grid Search for 'HR_rate'\n",
    "\n",
    "from sklearn.model_selection import GridSearchCV\n",
    "\n",
    "params = {\n",
    "    'alpha':alphas,\n",
    "    'fit_intercept':[True,False],\n",
    "    'solver':['svd', 'cholesky', 'lsqr', 'sparse_cg', 'sag', 'saga']\n",
    "}\n",
    "\n",
    "model = Ridge()\n",
    "ridge_cv = GridSearchCV(model, params, scoring='neg_mean_squared_error')\n",
    "\n",
    "#fit the grid search\n",
    "ridge_cv.fit(X_train,y_train['HR_rate'])\n",
    "\n",
    "# best estimator\n",
    "print(ridge_cv.best_estimator_)\n",
    "print(ridge_cv.best_score_)"
   ]
  },
  {
   "cell_type": "code",
   "execution_count": null,
   "metadata": {},
   "outputs": [],
   "source": [
    "# some visualization of our alphas for 'HR_rate'\n",
    "\n",
    "scores = []\n",
    "for a in alphas:\n",
    "    ridge = Ridge(alpha=a)\n",
    "    ridge.fit(X_train, y_train['RBI_rate'])\n",
    "    y_pred = ridge.predict(X_test)\n",
    "    RMSE = mean_squared_error(y_test['HR_rate'], y_pred, squared=False)\n",
    "    scores.append(RMSE)\n",
    "\n",
    "_ = sns.scatterplot(x=alphas,y=scores)\n",
    "plt.xlabel('alpha')\n",
    "plt.ylabel('RMSE')\n",
    "plt.title('RMSE by Alpha')\n",
    "plt.axis('tight')\n",
    "_ = plt.show()"
   ]
  },
  {
   "cell_type": "code",
   "execution_count": null,
   "metadata": {},
   "outputs": [],
   "source": [
    "# Grid Search for 'BA'\n",
    "from sklearn.model_selection import GridSearchCV\n",
    "\n",
    "params = {\n",
    "    'alpha':alphas,\n",
    "    'fit_intercept':[True,False],\n",
    "    'solver':['svd', 'cholesky', 'lsqr', 'sparse_cg', 'sag', 'saga']\n",
    "}\n",
    "\n",
    "model = Ridge()\n",
    "ridge_cv = GridSearchCV(model, params, scoring='neg_mean_squared_error')\n",
    "\n",
    "#fit the grid search\n",
    "ridge_cv.fit(X_train,y_train['BA'])\n",
    "\n",
    "# best estimator\n",
    "print(ridge_cv.best_estimator_)\n",
    "print(ridge_cv.best_score_)"
   ]
  },
  {
   "cell_type": "code",
   "execution_count": 52,
   "metadata": {},
   "outputs": [
    {
     "data": {
      "image/png": "[encoded data removed]",
      "text/plain": [
       "<Figure size 432x288 with 1 Axes>"
      ]
     },
     "metadata": {
      "needs_background": "light"
     },
     "output_type": "display_data"
    }
   ],
   "source": [
    "# some visualization of our alphas for 'BA'\n",
    "scores = []\n",
    "for a in alphas:\n",
    "    ridge = Ridge(alpha=a)\n",
    "    ridge.fit(X_train, y_train['RBI_rate'])\n",
    "    y_pred = ridge.predict(X_train)\n",
    "    RMSE = mean_squared_error(y_train['BA'], y_pred, squared=False)\n",
    "    scores.append(RMSE)\n",
    "\n",
    "_ = sns.scatterplot(x=alphas,y=scores)\n",
    "plt.xlabel('alpha')\n",
    "plt.ylabel('RMSE')\n",
    "plt.title('Training Set RMSE by Alpha--RBI Rate')\n",
    "plt.axis('tight')\n",
    "plt.ylim(0.1514,0.1533)\n",
    "_ = plt.show()"
   ]
  },
  {
   "cell_type": "code",
   "execution_count": 50,
   "metadata": {},
   "outputs": [
    {
     "data": {
      "image/png": "[encoded data removed]",
      "text/plain": [
       "<Figure size 432x288 with 1 Axes>"
      ]
     },
     "metadata": {
      "needs_background": "light"
     },
     "output_type": "display_data"
    }
   ],
   "source": [
    "scores = []\n",
    "for a in alphas:\n",
    "    ridge = Ridge(alpha=a)\n",
    "    ridge.fit(X_train, y_train['RBI_rate'])\n",
    "    y_pred = ridge.predict(X_test)\n",
    "    RMSE = mean_squared_error(y_test['BA'], y_pred, squared=False)\n",
    "    scores.append(RMSE)\n",
    "\n",
    "_ = sns.scatterplot(x=alphas,y=scores)\n",
    "plt.xlabel('alpha')\n",
    "plt.ylabel('RMSE')\n",
    "plt.title('Test Set RMSE by Alpha--RBI Rate')\n",
    "plt.axis('tight')\n",
    "plt.ylim(0.1555,0.1576)\n",
    "_ = plt.show()"
   ]
  },
  {
   "cell_type": "code",
   "execution_count": null,
   "metadata": {},
   "outputs": [],
   "source": []
  }
 ],
 "metadata": {
  "kernelspec": {
   "display_name": "Python 3",
   "language": "python",
   "name": "python3"
  },
  "language_info": {
   "codemirror_mode": {
    "name": "ipython",
    "version": 3
   },
   "file_extension": ".py",
   "mimetype": "text/x-python",
   "name": "python",
   "nbconvert_exporter": "python",
   "pygments_lexer": "ipython3",
   "version": "3.7.6"
  }
 },
 "nbformat": 4,
 "nbformat_minor": 4
}

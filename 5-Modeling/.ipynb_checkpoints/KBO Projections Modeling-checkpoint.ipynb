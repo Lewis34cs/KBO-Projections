{
 "cells": [
  {
   "cell_type": "markdown",
   "metadata": {},
   "source": [
    "# KBO Projections Modeling"
   ]
  },
  {
   "cell_type": "code",
   "execution_count": 1,
   "metadata": {},
   "outputs": [],
   "source": [
    "# import packages\n",
    "import pandas as pd\n",
    "import numpy as np\n",
    "import matplotlib.pyplot as plt\n",
    "import seaborn as sns"
   ]
  },
  {
   "cell_type": "markdown",
   "metadata": {},
   "source": [
    "## Train Test Split"
   ]
  },
  {
   "cell_type": "markdown",
   "metadata": {},
   "source": [
    "Because the goal of the project is to project full season performance from partial season performance, I will be splitting based on the season column, withholding the partial 2020 season for testing. I will then drop the season column, since it serves more as a nominal column for the sake of the specified projections. I am performing this split before fitting and applying the standard scaler to the rest of the data to avoid data leakage. Then I will apply train_test_split to the pre-2020 data to build models that define the feature relationships for our three response variables. After that, I will examine the question of projecting from partial to full season."
   ]
  },
  {
   "cell_type": "code",
   "execution_count": 2,
   "metadata": {},
   "outputs": [],
   "source": [
    "df = pd.read_csv(\"KBO_Projections_Data_Modeling.csv\")"
   ]
  },
  {
   "cell_type": "code",
   "execution_count": 3,
   "metadata": {},
   "outputs": [],
   "source": [
    "# split by season, and then drop season column\n",
    "pd.set_option('mode.chained_assignment',None)\n",
    "season_2020 = df[df['Season']==2020]\n",
    "split = df[df['Season']!=2020]\n",
    "season_2020.drop(['Season'],axis=1,inplace=True)\n",
    "split.drop(['Season'],axis=1,inplace=True)"
   ]
  },
  {
   "cell_type": "code",
   "execution_count": 4,
   "metadata": {},
   "outputs": [],
   "source": [
    "# X, y\n",
    "X = split.drop(['RBI_rate','HR_rate','BA'],axis=1)\n",
    "X_2020 = season_2020.drop(['RBI_rate','HR_rate','BA'],axis=1)\n",
    "y = split[['RBI_rate','HR_rate','BA']]\n",
    "y_2020 = season_2020[['RBI_rate','HR_rate','BA']]"
   ]
  },
  {
   "cell_type": "code",
   "execution_count": 5,
   "metadata": {},
   "outputs": [],
   "source": [
    "from sklearn.model_selection import train_test_split\n",
    "X_train, X_test, y_train, y_test = train_test_split(X, y, random_state=409)"
   ]
  },
  {
   "cell_type": "code",
   "execution_count": 6,
   "metadata": {},
   "outputs": [],
   "source": [
    "from sklearn.preprocessing import StandardScaler\n",
    "scaler = StandardScaler()\n",
    "scaler.fit(X_train)\n",
    "X_train = scaler.transform(X_train)\n",
    "X_test = scaler.transform(X_test)\n",
    "X_2020 = scaler.transform(X_2020)"
   ]
  },
  {
   "cell_type": "markdown",
   "metadata": {},
   "source": [
    "## Modeling"
   ]
  },
  {
   "cell_type": "markdown",
   "metadata": {},
   "source": [
    "This is a regression problem. I plan to try the following models out-of-the-box, and see how they perform. If one is well ahead in terms of performance, I will use that one and tune it. If more than one is very close in terms of performance, I will tune them a bit and see how much performance improvement we can get.\n",
    "\n",
    "1. Logistic Regression\n",
    "2. Lasso\n",
    "3. ElasticNet\n",
    "4. RidgeRegression\n",
    "5. SVR(kernel-'linear')\n",
    "6. SVR(kernel-'rbf')\n",
    "\n",
    "In terms of evaluation metrics, I will be using RMSE as my leading indicator."
   ]
  },
  {
   "cell_type": "code",
   "execution_count": 7,
   "metadata": {},
   "outputs": [],
   "source": [
    "from sklearn.metrics import mean_squared_error, r2_score, mean_absolute_error"
   ]
  },
  {
   "cell_type": "code",
   "execution_count": 21,
   "metadata": {},
   "outputs": [],
   "source": [
    "scores_dict = {}"
   ]
  },
  {
   "cell_type": "code",
   "execution_count": 22,
   "metadata": {},
   "outputs": [],
   "source": [
    "def initial_scores(reg, y):\n",
    "    '''for a given already initiated regressor reg, returns both test and train\n",
    "    RMSE, r2, and MAE for the given response variable y'''\n",
    "    reg.fit(X_train,y_train[y])\n",
    "    y_pred_train = reg.predict(X_train)\n",
    "    RMSE_train = mean_squared_error(y_train[y], y_pred_train, squared=False)\n",
    "    r2_train = r2_score(y_train[y],y_pred_train)\n",
    "    MAE_train = mean_absolute_error(y_train[y], y_pred_train)\n",
    "    y_pred_test = reg.predict(X_test)\n",
    "    RMSE_test = mean_squared_error(y_test[y], y_pred_test, squared=False)\n",
    "    r2_test = r2_score(y_test[y],y_pred_test)\n",
    "    MAE_test = mean_absolute_error(y_test[y], y_pred_test)\n",
    "    return RMSE_train, r2_train, MAE_train, RMSE_test, r2_test, MAE_test"
   ]
  },
  {
   "cell_type": "code",
   "execution_count": 10,
   "metadata": {},
   "outputs": [],
   "source": [
    "def initial_train_scores(reg):\n",
    "    print(\"Training Set Scores: \")\n",
    "    for y in ['RBI_rate','HR_rate','BA']:\n",
    "        reg.fit(X_train,y_train[y])\n",
    "        y_pred = reg.predict(X_train)\n",
    "        RMSE = mean_squared_error(y_train[y], y_pred, squared=False)\n",
    "        r2 = r2_score(y_train[y],y_pred)\n",
    "        MAE = mean_absolute_error(y_train[y], y_pred)\n",
    "        print(y + \": RMSE: \" + str(round(RMSE,3)) + \" r2: \" + str(round(r2,3)) + \" MAE: \" + str(round(MAE,3)))"
   ]
  },
  {
   "cell_type": "code",
   "execution_count": 11,
   "metadata": {},
   "outputs": [],
   "source": [
    "def initial_test_scores(reg):\n",
    "    print(\"Test Set Scores: \")\n",
    "    for y in ['RBI_rate','HR_rate','BA']:\n",
    "        reg.fit(X_train,y_train[y])\n",
    "        y_pred = reg.predict(X_test)\n",
    "        RMSE = mean_squared_error(y_test[y], y_pred, squared=False)\n",
    "        r2 = r2_score(y_test[y],y_pred)\n",
    "        MAE = mean_absolute_error(y_test[y], y_pred)\n",
    "        print(y + \": RMSE: \" + str(round(RMSE,3)) + \" r2: \" + str(round(r2,3)) + \" MAE: \" + str(round(MAE,3)))"
   ]
  },
  {
   "cell_type": "markdown",
   "metadata": {},
   "source": [
    "### Linear Regression"
   ]
  },
  {
   "cell_type": "code",
   "execution_count": 26,
   "metadata": {},
   "outputs": [
    {
     "name": "stdout",
     "output_type": "stream",
     "text": [
      "Training Set Scores: \n",
      "RBI_rate: RMSE: 0.056 r2: 0.532 MAE: 0.028\n",
      "HR_rate: RMSE: 0.005 r2: 0.944 MAE: 0.002\n",
      "BA: RMSE: 0.011 r2: 0.99 MAE: 0.005\n",
      "Test Set Scores: \n",
      "RBI_rate: RMSE: 0.081 r2: 0.385 MAE: 0.031\n",
      "HR_rate: RMSE: 0.007 r2: 0.95 MAE: 0.002\n",
      "BA: RMSE: 0.014 r2: 0.987 MAE: 0.006\n"
     ]
    }
   ],
   "source": [
    "from sklearn.linear_model import LinearRegression\n",
    "reg = LinearRegression()\n",
    "\n",
    "scores_dict[\"reg\"] = {}\n",
    "for y in ['RBI_rate','HR_rate','BA']:\n",
    "    scores_dict[\"reg\"][y] = initial_scores(reg,y)"
   ]
  },
  {
   "cell_type": "markdown",
   "metadata": {},
   "source": [
    "### Lasso"
   ]
  },
  {
   "cell_type": "code",
   "execution_count": 61,
   "metadata": {},
   "outputs": [
    {
     "name": "stdout",
     "output_type": "stream",
     "text": [
      "Training Set Scores: \n",
      "RBI_rate: RMSE: 0.082 r2: 0.0 MAE: 0.051\n",
      "HR_rate: RMSE: 0.019 r2: 0.0 MAE: 0.014\n",
      "BA: RMSE: 0.112 r2: 0.0 MAE: 0.078\n",
      "Test Set Scores: \n",
      "RBI_rate: RMSE: 0.104 r2: -0.002 MAE: 0.053\n",
      "HR_rate: RMSE: 0.029 r2: -0.001 MAE: 0.015\n",
      "BA: RMSE: 0.118 r2: -0.002 MAE: 0.078\n"
     ]
    }
   ],
   "source": [
    "from sklearn.linear_model import Lasso\n",
    "lasso = Lasso()\n",
    "\n",
    "scores_dict[\"lasso\"] = {}\n",
    "for y in ['RBI_rate','HR_rate','BA']:\n",
    "    scores_dict[\"lasso\"][y] = initial_scores(lasso,y)"
   ]
  },
  {
   "cell_type": "markdown",
   "metadata": {},
   "source": [
    "### ElasticNet"
   ]
  },
  {
   "cell_type": "code",
   "execution_count": 62,
   "metadata": {},
   "outputs": [
    {
     "name": "stdout",
     "output_type": "stream",
     "text": [
      "Training Set Scores: \n",
      "RBI_rate: RMSE: 0.082 r2: 0.0 MAE: 0.051\n",
      "HR_rate: RMSE: 0.019 r2: 0.0 MAE: 0.014\n",
      "BA: RMSE: 0.112 r2: 0.0 MAE: 0.078\n",
      "Test Set Scores: \n",
      "RBI_rate: RMSE: 0.104 r2: -0.002 MAE: 0.053\n",
      "HR_rate: RMSE: 0.029 r2: -0.001 MAE: 0.015\n",
      "BA: RMSE: 0.118 r2: -0.002 MAE: 0.078\n"
     ]
    }
   ],
   "source": [
    "from sklearn.linear_model import ElasticNet\n",
    "enet = ElasticNet()\n",
    "\n",
    "scores_dict[\"enet\"] = {}\n",
    "for y in ['RBI_rate','HR_rate','BA']:\n",
    "    scores_dict[\"enet\"][y] = initial_scores(enet,y)"
   ]
  },
  {
   "cell_type": "markdown",
   "metadata": {},
   "source": [
    "### RidgeRegression"
   ]
  },
  {
   "cell_type": "code",
   "execution_count": 63,
   "metadata": {},
   "outputs": [
    {
     "name": "stdout",
     "output_type": "stream",
     "text": [
      "Training Set Scores: \n",
      "RBI_rate: RMSE: 0.056 r2: 0.532 MAE: 0.028\n",
      "HR_rate: RMSE: 0.005 r2: 0.944 MAE: 0.002\n",
      "BA: RMSE: 0.011 r2: 0.99 MAE: 0.005\n",
      "Test Set Scores: \n",
      "RBI_rate: RMSE: 0.081 r2: 0.385 MAE: 0.031\n",
      "HR_rate: RMSE: 0.007 r2: 0.949 MAE: 0.002\n",
      "BA: RMSE: 0.014 r2: 0.987 MAE: 0.006\n"
     ]
    }
   ],
   "source": [
    "from sklearn.linear_model import Ridge\n",
    "ridge = Ridge()\n",
    "\n",
    "scores_dict[\"ridge\"] = {}\n",
    "for y in ['RBI_rate','HR_rate','BA']:\n",
    "    scores_dict[\"ridge\"][y] = initial_scores(ridge,y)"
   ]
  },
  {
   "cell_type": "markdown",
   "metadata": {},
   "source": [
    "### SVR(kernel-'linear')"
   ]
  },
  {
   "cell_type": "code",
   "execution_count": 64,
   "metadata": {},
   "outputs": [
    {
     "name": "stdout",
     "output_type": "stream",
     "text": [
      "Training Set Scores: \n",
      "RBI_rate: RMSE: 0.07 r2: 0.288 MAE: 0.045\n",
      "HR_rate: RMSE: 0.084 r2: -18.151 MAE: 0.083\n",
      "BA: RMSE: 0.063 r2: 0.678 MAE: 0.06\n",
      "Test Set Scores: \n",
      "RBI_rate: RMSE: 0.097 r2: 0.122 MAE: 0.046\n",
      "HR_rate: RMSE: 0.084 r2: -7.295 MAE: 0.083\n",
      "BA: RMSE: 0.064 r2: 0.708 MAE: 0.06\n"
     ]
    }
   ],
   "source": [
    "from sklearn.svm import SVR\n",
    "svr_lin = SVR(kernel='linear')\n",
    "\n",
    "scores_dict[\"svr_lin\"] = {}\n",
    "for y in ['RBI_rate','HR_rate','BA']:\n",
    "    scores_dict[\"svr_lin\"][y] = initial_scores(svr_lin,y)"
   ]
  },
  {
   "cell_type": "markdown",
   "metadata": {},
   "source": [
    "### SVR(kernel-'rbf')"
   ]
  },
  {
   "cell_type": "code",
   "execution_count": 65,
   "metadata": {},
   "outputs": [
    {
     "name": "stdout",
     "output_type": "stream",
     "text": [
      "Training Set Scores: \n",
      "RBI_rate: RMSE: 0.063 r2: 0.425 MAE: 0.046\n",
      "HR_rate: RMSE: 0.086 r2: -19.195 MAE: 0.085\n",
      "BA: RMSE: 0.039 r2: 0.877 MAE: 0.029\n",
      "Test Set Scores: \n",
      "RBI_rate: RMSE: 0.099 r2: 0.088 MAE: 0.049\n",
      "HR_rate: RMSE: 0.088 r2: -8.095 MAE: 0.085\n",
      "BA: RMSE: 0.054 r2: 0.793 MAE: 0.031\n"
     ]
    }
   ],
   "source": [
    "svr_rbf = SVR(kernel='rbf')\n",
    "\n",
    "scores_dict[\"svr_rbf\"] = {}\n",
    "for y in ['RBI_rate','HR_rate','BA']:\n",
    "    scores_dict[\"svr_rbf\"][y] = initial_scores(svr_rbf,y)"
   ]
  },
  {
   "cell_type": "code",
   "execution_count": null,
   "metadata": {},
   "outputs": [],
   "source": []
  },
  {
   "cell_type": "code",
   "execution_count": 66,
   "metadata": {},
   "outputs": [],
   "source": [
    "myLabels = ['Logistic Regression', 'Lasso', 'ElasticNet',\n",
    "            'RidgeRegression', 'SVR(kernel-linear)', 'SVR(kernel-rbf)']"
   ]
  }
 ],
 "metadata": {
  "kernelspec": {
   "display_name": "Python 3",
   "language": "python",
   "name": "python3"
  },
  "language_info": {
   "codemirror_mode": {
    "name": "ipython",
    "version": 3
   },
   "file_extension": ".py",
   "mimetype": "text/x-python",
   "name": "python",
   "nbconvert_exporter": "python",
   "pygments_lexer": "ipython3",
   "version": "3.7.6"
  }
 },
 "nbformat": 4,
 "nbformat_minor": 4
}

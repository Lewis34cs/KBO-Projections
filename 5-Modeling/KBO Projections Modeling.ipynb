{
 "cells": [
  {
   "cell_type": "markdown",
   "metadata": {},
   "source": [
    "# KBO Projections Modeling"
   ]
  },
  {
   "cell_type": "code",
   "execution_count": 1,
   "metadata": {},
   "outputs": [],
   "source": [
    "# import packages\n",
    "import pandas as pd\n",
    "import numpy as np\n",
    "import matplotlib.pyplot as plt\n",
    "import seaborn as sns"
   ]
  },
  {
   "cell_type": "markdown",
   "metadata": {},
   "source": [
    "## Train Test Split"
   ]
  },
  {
   "cell_type": "markdown",
   "metadata": {},
   "source": [
    "Because the goal of the project is to project full season performance from partial season performance, I will be splitting based on the season column, withholding the partial 2020 season for testing. I will then drop the season column, since it serves more as a nominal column for the sake of the specified projections. I am performing this split before fitting and applying the standard scaler to the rest of the data to avoid data leakage. Then I will apply train_test_split to the pre-2020 data to build models that define the feature relationships for our three response variables. After that, I will examine the question of projecting from partial to full season."
   ]
  },
  {
   "cell_type": "code",
   "execution_count": 2,
   "metadata": {},
   "outputs": [],
   "source": [
    "df = pd.read_csv(\"KBO_Projections_Data_Modeling.csv\")"
   ]
  },
  {
   "cell_type": "code",
   "execution_count": 3,
   "metadata": {},
   "outputs": [],
   "source": [
    "# split by season, and then drop season column\n",
    "pd.set_option('mode.chained_assignment',None)\n",
    "season_2020 = df[df['Season']==2020]\n",
    "split = df[df['Season']!=2020]\n",
    "season_2020.drop(['Season'],axis=1,inplace=True)\n",
    "split.drop(['Season'],axis=1,inplace=True)"
   ]
  },
  {
   "cell_type": "code",
   "execution_count": 4,
   "metadata": {},
   "outputs": [],
   "source": [
    "# X, y\n",
    "X = split.drop(['RBI_rate','HR_rate','BA'],axis=1)\n",
    "X_2020 = season_2020.drop(['RBI_rate','HR_rate','BA'],axis=1)\n",
    "y = split[['RBI_rate','HR_rate','BA']]\n",
    "y_2020 = season_2020[['RBI_rate','HR_rate','BA']]"
   ]
  },
  {
   "cell_type": "code",
   "execution_count": 5,
   "metadata": {},
   "outputs": [],
   "source": [
    "from sklearn.model_selection import train_test_split\n",
    "X_train, X_test, y_train, y_test = train_test_split(X, y, random_state=409)"
   ]
  },
  {
   "cell_type": "code",
   "execution_count": 6,
   "metadata": {},
   "outputs": [],
   "source": [
    "from sklearn.preprocessing import StandardScaler\n",
    "scaler = StandardScaler()\n",
    "scaler.fit(X_train)\n",
    "X_train = scaler.transform(X_train)\n",
    "X_test = scaler.transform(X_test)\n",
    "X_2020 = scaler.transform(X_2020)"
   ]
  },
  {
   "cell_type": "markdown",
   "metadata": {},
   "source": [
    "## Modeling"
   ]
  },
  {
   "cell_type": "markdown",
   "metadata": {},
   "source": [
    "This is a regression problem. I plan to try the following models out-of-the-box, and see how they perform. If one is well ahead in terms of performance, I will use that one and tune it. If more than one is very close in terms of performance, I will tune them a bit and see how much performance improvement we can get.\n",
    "\n",
    "1. Logistic Regression\n",
    "2. Lasso\n",
    "3. ElasticNet\n",
    "4. RidgeRegression\n",
    "5. SVR(kernel-'linear')\n",
    "6. SVR(kernel-'rbf')\n",
    "\n",
    "In terms of evaluation metrics, I will be using RMSE as my leading indicator."
   ]
  },
  {
   "cell_type": "code",
   "execution_count": 7,
   "metadata": {},
   "outputs": [],
   "source": [
    "from sklearn.metrics import mean_squared_error, r2_score, mean_absolute_error"
   ]
  },
  {
   "cell_type": "code",
   "execution_count": 8,
   "metadata": {},
   "outputs": [],
   "source": [
    "scores_dict = {}"
   ]
  },
  {
   "cell_type": "code",
   "execution_count": 9,
   "metadata": {},
   "outputs": [],
   "source": [
    "def initial_scores(reg, y):\n",
    "    '''for a given already initiated regressor reg, returns both test and train\n",
    "    RMSE, r2, and MAE for the given response variable y'''\n",
    "    reg.fit(X_train,y_train[y])\n",
    "    y_pred_train = reg.predict(X_train)\n",
    "    RMSE_train = mean_squared_error(y_train[y], y_pred_train, squared=False)\n",
    "    r2_train = r2_score(y_train[y],y_pred_train)\n",
    "    MAE_train = mean_absolute_error(y_train[y], y_pred_train)\n",
    "    y_pred_test = reg.predict(X_test)\n",
    "    RMSE_test = mean_squared_error(y_test[y], y_pred_test, squared=False)\n",
    "    r2_test = r2_score(y_test[y],y_pred_test)\n",
    "    MAE_test = mean_absolute_error(y_test[y], y_pred_test)\n",
    "    return RMSE_train, r2_train, MAE_train, RMSE_test, r2_test, MAE_test"
   ]
  },
  {
   "cell_type": "code",
   "execution_count": 10,
   "metadata": {},
   "outputs": [],
   "source": [
    "def initial_train_scores(reg):\n",
    "    print(\"Training Set Scores: \")\n",
    "    for y in ['RBI_rate','HR_rate','BA']:\n",
    "        reg.fit(X_train,y_train[y])\n",
    "        y_pred = reg.predict(X_train)\n",
    "        RMSE = mean_squared_error(y_train[y], y_pred, squared=False)\n",
    "        r2 = r2_score(y_train[y],y_pred)\n",
    "        MAE = mean_absolute_error(y_train[y], y_pred)\n",
    "        print(y + \": RMSE: \" + str(round(RMSE,3)) + \" r2: \" + str(round(r2,3)) + \" MAE: \" + str(round(MAE,3)))"
   ]
  },
  {
   "cell_type": "code",
   "execution_count": 11,
   "metadata": {},
   "outputs": [],
   "source": [
    "def initial_test_scores(reg):\n",
    "    print(\"Test Set Scores: \")\n",
    "    for y in ['RBI_rate','HR_rate','BA']:\n",
    "        reg.fit(X_train,y_train[y])\n",
    "        y_pred = reg.predict(X_test)\n",
    "        RMSE = mean_squared_error(y_test[y], y_pred, squared=False)\n",
    "        r2 = r2_score(y_test[y],y_pred)\n",
    "        MAE = mean_absolute_error(y_test[y], y_pred)\n",
    "        print(y + \": RMSE: \" + str(round(RMSE,3)) + \" r2: \" + str(round(r2,3)) + \" MAE: \" + str(round(MAE,3)))"
   ]
  },
  {
   "cell_type": "markdown",
   "metadata": {},
   "source": [
    "### Linear Regression"
   ]
  },
  {
   "cell_type": "code",
   "execution_count": 12,
   "metadata": {},
   "outputs": [],
   "source": [
    "from sklearn.linear_model import LinearRegression\n",
    "reg = LinearRegression()\n",
    "\n",
    "scores_dict[\"reg\"] = {}\n",
    "for y in ['RBI_rate','HR_rate','BA']:\n",
    "    scores_dict[\"reg\"][y] = initial_scores(reg,y)"
   ]
  },
  {
   "cell_type": "markdown",
   "metadata": {},
   "source": [
    "### Lasso"
   ]
  },
  {
   "cell_type": "code",
   "execution_count": 13,
   "metadata": {},
   "outputs": [],
   "source": [
    "from sklearn.linear_model import Lasso\n",
    "lasso = Lasso()\n",
    "\n",
    "scores_dict[\"lasso\"] = {}\n",
    "for y in ['RBI_rate','HR_rate','BA']:\n",
    "    scores_dict[\"lasso\"][y] = initial_scores(lasso,y)"
   ]
  },
  {
   "cell_type": "markdown",
   "metadata": {},
   "source": [
    "### ElasticNet"
   ]
  },
  {
   "cell_type": "code",
   "execution_count": 14,
   "metadata": {},
   "outputs": [],
   "source": [
    "from sklearn.linear_model import ElasticNet\n",
    "enet = ElasticNet()\n",
    "\n",
    "scores_dict[\"enet\"] = {}\n",
    "for y in ['RBI_rate','HR_rate','BA']:\n",
    "    scores_dict[\"enet\"][y] = initial_scores(enet,y)"
   ]
  },
  {
   "cell_type": "markdown",
   "metadata": {},
   "source": [
    "### RidgeRegression"
   ]
  },
  {
   "cell_type": "code",
   "execution_count": 15,
   "metadata": {},
   "outputs": [],
   "source": [
    "from sklearn.linear_model import Ridge\n",
    "ridge = Ridge()\n",
    "\n",
    "scores_dict[\"ridge\"] = {}\n",
    "for y in ['RBI_rate','HR_rate','BA']:\n",
    "    scores_dict[\"ridge\"][y] = initial_scores(ridge,y)"
   ]
  },
  {
   "cell_type": "markdown",
   "metadata": {},
   "source": [
    "### SVR(kernel-'linear')"
   ]
  },
  {
   "cell_type": "code",
   "execution_count": 16,
   "metadata": {},
   "outputs": [],
   "source": [
    "from sklearn.svm import SVR\n",
    "svr_lin = SVR(kernel='linear')\n",
    "\n",
    "scores_dict[\"svr_lin\"] = {}\n",
    "for y in ['RBI_rate','HR_rate','BA']:\n",
    "    scores_dict[\"svr_lin\"][y] = initial_scores(svr_lin,y)"
   ]
  },
  {
   "cell_type": "markdown",
   "metadata": {},
   "source": [
    "### SVR(kernel-'rbf')"
   ]
  },
  {
   "cell_type": "code",
   "execution_count": 17,
   "metadata": {},
   "outputs": [],
   "source": [
    "svr_rbf = SVR(kernel='rbf')\n",
    "\n",
    "scores_dict[\"svr_rbf\"] = {}\n",
    "for y in ['RBI_rate','HR_rate','BA']:\n",
    "    scores_dict[\"svr_rbf\"][y] = initial_scores(svr_rbf,y)"
   ]
  },
  {
   "cell_type": "code",
   "execution_count": 22,
   "metadata": {},
   "outputs": [
    {
     "data": {
      "text/html": [
       "<div>\n",
       "<style scoped>\n",
       "    .dataframe tbody tr th:only-of-type {\n",
       "        vertical-align: middle;\n",
       "    }\n",
       "\n",
       "    .dataframe tbody tr th {\n",
       "        vertical-align: top;\n",
       "    }\n",
       "\n",
       "    .dataframe thead th {\n",
       "        text-align: right;\n",
       "    }\n",
       "</style>\n",
       "<table border=\"1\" class=\"dataframe\">\n",
       "  <thead>\n",
       "    <tr style=\"text-align: right;\">\n",
       "      <th></th>\n",
       "      <th>0</th>\n",
       "      <th>1</th>\n",
       "      <th>2</th>\n",
       "      <th>3</th>\n",
       "      <th>4</th>\n",
       "      <th>5</th>\n",
       "    </tr>\n",
       "  </thead>\n",
       "  <tbody>\n",
       "    <tr>\n",
       "      <th>(reg, RBI_rate)</th>\n",
       "      <td>0.056393</td>\n",
       "      <td>0.532466</td>\n",
       "      <td>0.028060</td>\n",
       "      <td>0.081449</td>\n",
       "      <td>0.384631</td>\n",
       "      <td>0.031240</td>\n",
       "    </tr>\n",
       "    <tr>\n",
       "      <th>(reg, HR_rate)</th>\n",
       "      <td>0.004552</td>\n",
       "      <td>0.943516</td>\n",
       "      <td>0.002232</td>\n",
       "      <td>0.006550</td>\n",
       "      <td>0.949742</td>\n",
       "      <td>0.002413</td>\n",
       "    </tr>\n",
       "    <tr>\n",
       "      <th>(reg, BA)</th>\n",
       "      <td>0.011277</td>\n",
       "      <td>0.989798</td>\n",
       "      <td>0.005163</td>\n",
       "      <td>0.013601</td>\n",
       "      <td>0.986775</td>\n",
       "      <td>0.005579</td>\n",
       "    </tr>\n",
       "    <tr>\n",
       "      <th>(lasso, RBI_rate)</th>\n",
       "      <td>0.082475</td>\n",
       "      <td>0.000000</td>\n",
       "      <td>0.051031</td>\n",
       "      <td>0.103927</td>\n",
       "      <td>-0.001906</td>\n",
       "      <td>0.052510</td>\n",
       "    </tr>\n",
       "    <tr>\n",
       "      <th>(lasso, HR_rate)</th>\n",
       "      <td>0.019151</td>\n",
       "      <td>0.000000</td>\n",
       "      <td>0.014098</td>\n",
       "      <td>0.029228</td>\n",
       "      <td>-0.000757</td>\n",
       "      <td>0.014577</td>\n",
       "    </tr>\n",
       "    <tr>\n",
       "      <th>(lasso, BA)</th>\n",
       "      <td>0.111648</td>\n",
       "      <td>0.000000</td>\n",
       "      <td>0.078050</td>\n",
       "      <td>0.118400</td>\n",
       "      <td>-0.002186</td>\n",
       "      <td>0.077888</td>\n",
       "    </tr>\n",
       "    <tr>\n",
       "      <th>(enet, RBI_rate)</th>\n",
       "      <td>0.082475</td>\n",
       "      <td>0.000000</td>\n",
       "      <td>0.051031</td>\n",
       "      <td>0.103927</td>\n",
       "      <td>-0.001906</td>\n",
       "      <td>0.052510</td>\n",
       "    </tr>\n",
       "    <tr>\n",
       "      <th>(enet, HR_rate)</th>\n",
       "      <td>0.019151</td>\n",
       "      <td>0.000000</td>\n",
       "      <td>0.014098</td>\n",
       "      <td>0.029228</td>\n",
       "      <td>-0.000757</td>\n",
       "      <td>0.014577</td>\n",
       "    </tr>\n",
       "    <tr>\n",
       "      <th>(enet, BA)</th>\n",
       "      <td>0.111648</td>\n",
       "      <td>0.000000</td>\n",
       "      <td>0.078050</td>\n",
       "      <td>0.118400</td>\n",
       "      <td>-0.002186</td>\n",
       "      <td>0.077888</td>\n",
       "    </tr>\n",
       "    <tr>\n",
       "      <th>(ridge, RBI_rate)</th>\n",
       "      <td>0.056393</td>\n",
       "      <td>0.532465</td>\n",
       "      <td>0.028062</td>\n",
       "      <td>0.081437</td>\n",
       "      <td>0.384798</td>\n",
       "      <td>0.031240</td>\n",
       "    </tr>\n",
       "    <tr>\n",
       "      <th>(ridge, HR_rate)</th>\n",
       "      <td>0.004552</td>\n",
       "      <td>0.943511</td>\n",
       "      <td>0.002236</td>\n",
       "      <td>0.006579</td>\n",
       "      <td>0.949301</td>\n",
       "      <td>0.002419</td>\n",
       "    </tr>\n",
       "    <tr>\n",
       "      <th>(ridge, BA)</th>\n",
       "      <td>0.011277</td>\n",
       "      <td>0.989797</td>\n",
       "      <td>0.005169</td>\n",
       "      <td>0.013621</td>\n",
       "      <td>0.986737</td>\n",
       "      <td>0.005587</td>\n",
       "    </tr>\n",
       "    <tr>\n",
       "      <th>(svr_lin, RBI_rate)</th>\n",
       "      <td>0.069615</td>\n",
       "      <td>0.287526</td>\n",
       "      <td>0.044839</td>\n",
       "      <td>0.097289</td>\n",
       "      <td>0.121991</td>\n",
       "      <td>0.045806</td>\n",
       "    </tr>\n",
       "    <tr>\n",
       "      <th>(svr_lin, HR_rate)</th>\n",
       "      <td>0.083809</td>\n",
       "      <td>-18.150813</td>\n",
       "      <td>0.082887</td>\n",
       "      <td>0.084148</td>\n",
       "      <td>-7.294736</td>\n",
       "      <td>0.082611</td>\n",
       "    </tr>\n",
       "    <tr>\n",
       "      <th>(svr_lin, BA)</th>\n",
       "      <td>0.063334</td>\n",
       "      <td>0.678214</td>\n",
       "      <td>0.060159</td>\n",
       "      <td>0.063911</td>\n",
       "      <td>0.707990</td>\n",
       "      <td>0.060123</td>\n",
       "    </tr>\n",
       "    <tr>\n",
       "      <th>(svr_rbf, RBI_rate)</th>\n",
       "      <td>0.062541</td>\n",
       "      <td>0.424978</td>\n",
       "      <td>0.045737</td>\n",
       "      <td>0.099166</td>\n",
       "      <td>0.087787</td>\n",
       "      <td>0.048826</td>\n",
       "    </tr>\n",
       "    <tr>\n",
       "      <th>(svr_rbf, HR_rate)</th>\n",
       "      <td>0.086063</td>\n",
       "      <td>-19.194752</td>\n",
       "      <td>0.084540</td>\n",
       "      <td>0.088116</td>\n",
       "      <td>-8.095470</td>\n",
       "      <td>0.084624</td>\n",
       "    </tr>\n",
       "    <tr>\n",
       "      <th>(svr_rbf, BA)</th>\n",
       "      <td>0.039150</td>\n",
       "      <td>0.877039</td>\n",
       "      <td>0.029001</td>\n",
       "      <td>0.053842</td>\n",
       "      <td>0.792751</td>\n",
       "      <td>0.030646</td>\n",
       "    </tr>\n",
       "  </tbody>\n",
       "</table>\n",
       "</div>"
      ],
      "text/plain": [
       "                            0          1         2         3         4  \\\n",
       "(reg, RBI_rate)      0.056393   0.532466  0.028060  0.081449  0.384631   \n",
       "(reg, HR_rate)       0.004552   0.943516  0.002232  0.006550  0.949742   \n",
       "(reg, BA)            0.011277   0.989798  0.005163  0.013601  0.986775   \n",
       "(lasso, RBI_rate)    0.082475   0.000000  0.051031  0.103927 -0.001906   \n",
       "(lasso, HR_rate)     0.019151   0.000000  0.014098  0.029228 -0.000757   \n",
       "(lasso, BA)          0.111648   0.000000  0.078050  0.118400 -0.002186   \n",
       "(enet, RBI_rate)     0.082475   0.000000  0.051031  0.103927 -0.001906   \n",
       "(enet, HR_rate)      0.019151   0.000000  0.014098  0.029228 -0.000757   \n",
       "(enet, BA)           0.111648   0.000000  0.078050  0.118400 -0.002186   \n",
       "(ridge, RBI_rate)    0.056393   0.532465  0.028062  0.081437  0.384798   \n",
       "(ridge, HR_rate)     0.004552   0.943511  0.002236  0.006579  0.949301   \n",
       "(ridge, BA)          0.011277   0.989797  0.005169  0.013621  0.986737   \n",
       "(svr_lin, RBI_rate)  0.069615   0.287526  0.044839  0.097289  0.121991   \n",
       "(svr_lin, HR_rate)   0.083809 -18.150813  0.082887  0.084148 -7.294736   \n",
       "(svr_lin, BA)        0.063334   0.678214  0.060159  0.063911  0.707990   \n",
       "(svr_rbf, RBI_rate)  0.062541   0.424978  0.045737  0.099166  0.087787   \n",
       "(svr_rbf, HR_rate)   0.086063 -19.194752  0.084540  0.088116 -8.095470   \n",
       "(svr_rbf, BA)        0.039150   0.877039  0.029001  0.053842  0.792751   \n",
       "\n",
       "                            5  \n",
       "(reg, RBI_rate)      0.031240  \n",
       "(reg, HR_rate)       0.002413  \n",
       "(reg, BA)            0.005579  \n",
       "(lasso, RBI_rate)    0.052510  \n",
       "(lasso, HR_rate)     0.014577  \n",
       "(lasso, BA)          0.077888  \n",
       "(enet, RBI_rate)     0.052510  \n",
       "(enet, HR_rate)      0.014577  \n",
       "(enet, BA)           0.077888  \n",
       "(ridge, RBI_rate)    0.031240  \n",
       "(ridge, HR_rate)     0.002419  \n",
       "(ridge, BA)          0.005587  \n",
       "(svr_lin, RBI_rate)  0.045806  \n",
       "(svr_lin, HR_rate)   0.082611  \n",
       "(svr_lin, BA)        0.060123  \n",
       "(svr_rbf, RBI_rate)  0.048826  \n",
       "(svr_rbf, HR_rate)   0.084624  \n",
       "(svr_rbf, BA)        0.030646  "
      ]
     },
     "execution_count": 22,
     "metadata": {},
     "output_type": "execute_result"
    }
   ],
   "source": [
    "\n",
    "pd.DataFrame.from_dict({(i,j): scores_dict[i][j] \n",
    "                           for i in scores_dict.keys() \n",
    "                           for j in scores_dict[i].keys()},\n",
    "                       orient='index')"
   ]
  },
  {
   "cell_type": "code",
   "execution_count": 66,
   "metadata": {},
   "outputs": [],
   "source": [
    "myLabels = ['Logistic Regression', 'Lasso', 'ElasticNet',\n",
    "            'RidgeRegression', 'SVR(kernel-linear)', 'SVR(kernel-rbf)']"
   ]
  }
 ],
 "metadata": {
  "kernelspec": {
   "display_name": "Python 3",
   "language": "python",
   "name": "python3"
  },
  "language_info": {
   "codemirror_mode": {
    "name": "ipython",
    "version": 3
   },
   "file_extension": ".py",
   "mimetype": "text/x-python",
   "name": "python",
   "nbconvert_exporter": "python",
   "pygments_lexer": "ipython3",
   "version": "3.7.6"
  }
 },
 "nbformat": 4,
 "nbformat_minor": 4
}
